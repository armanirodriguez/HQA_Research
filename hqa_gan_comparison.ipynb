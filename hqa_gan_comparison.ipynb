{
 "cells": [
  {
   "cell_type": "code",
   "execution_count": 34,
   "metadata": {},
   "outputs": [],
   "source": [
    "from hqa_gan_2.hqa_gan_2 import HQAGAN2\n",
    "from hqa_gan_1.hqa_gan_1 import HQAGAN\n",
    "from hqa.hqa_lightning import HQA\n",
    "\n",
    "import lightning.pytorch as pl\n",
    "\n",
    "HQA_CHECKPOINT_DIR = '/home/armani/DL_class/hqa/hqa_checkpoints'\n",
    "HQAGAN_CHECKPOINT_DIR = '/home/armani/DL_class/hqa_gan_1/hqa_gan_1_checkpoints'\n",
    "HQAGAN_2_CHECKPOINT_DIR = '/home/armani/DL_class/hqa_gan_2/hqa_gan_2_checkpoints'\n",
    "\n",
    "def load_heirarchical_model_from_checkpoints(\n",
    "    model_class,\n",
    "    checkpoints_dir,\n",
    "    n_layers=5,\n",
    "    **kwargs\n",
    ") -> pl.LightningModule:\n",
    "    \"\"\"\n",
    "    Load a HAE model from a directory of checkpoints for each layer\n",
    "    \"\"\"\n",
    "    for layer in range(n_layers):\n",
    "        if layer == 0:\n",
    "            hae = model_class.load_from_checkpoint(\n",
    "                f\"{checkpoints_dir}/layer{layer}.ckpt\", prev_model=None, **kwargs\n",
    "            ).eval()\n",
    "        else:\n",
    "            hae = model_class.load_from_checkpoint(\n",
    "                f\"{checkpoints_dir}/layer{layer}.ckpt\", prev_model=hae_prev, **kwargs\n",
    "            ).eval()\n",
    "        hae_prev = hae\n",
    "    return hae\n",
    "\n",
    "N_LAYERS = 5\n",
    "\n",
    "\n",
    "hqa_model = load_heirarchical_model_from_checkpoints(\n",
    "    HQA,\n",
    "    HQA_CHECKPOINT_DIR,\n",
    "    n_layers=N_LAYERS,\n",
    "    image_channels=1\n",
    ")\n",
    "\n",
    "hqagan_model = load_heirarchical_model_from_checkpoints(\n",
    "    HQAGAN,\n",
    "    HQAGAN_CHECKPOINT_DIR,\n",
    "    n_layers=N_LAYERS,\n",
    "    image_channels=1\n",
    ")\n",
    "\n",
    "hqagan2_model = load_heirarchical_model_from_checkpoints(\n",
    "    HQAGAN2, \n",
    "    HQAGAN_2_CHECKPOINT_DIR, \n",
    "    n_layers=N_LAYERS,\n",
    "    image_channels=1\n",
    ")"
   ]
  },
  {
   "cell_type": "code",
   "execution_count": 25,
   "metadata": {},
   "outputs": [
    {
     "name": "stderr",
     "output_type": "stream",
     "text": [
      "Global seed set to 42\n"
     ]
    }
   ],
   "source": [
    "\n",
    "\n",
    "from torch.utils.data import DataLoader\n",
    "\n",
    "from torchvision import transforms\n",
    "from torchvision.datasets import MNIST\n",
    "\n",
    "\n",
    "pl.seed_everything(42)\n",
    "\n",
    "transform = transforms.Compose(\n",
    "    [\n",
    "        transforms.Resize(32),\n",
    "        transforms.CenterCrop(32),\n",
    "        transforms.ToTensor(),\n",
    "    ]\n",
    ")\n",
    "batch_size = 128\n",
    "ds_train = MNIST('./data/mnist', download=True, train=True, transform=transform)\n",
    "dl_train = DataLoader(ds_train, batch_size=batch_size, shuffle=True, num_workers=4)\n",
    "\n",
    "ds_test = MNIST('./data/mnist', download=True, train=False, transform=transform)\n",
    "dl_test = DataLoader(ds_test, batch_size=batch_size, num_workers=4)"
   ]
  },
  {
   "cell_type": "code",
   "execution_count": 26,
   "metadata": {},
   "outputs": [],
   "source": [
    "import os\n",
    "\n",
    "import torch\n",
    "from torch import nn, optim\n",
    "import torch.nn.functional as F\n",
    "import numpy as np\n",
    "\n",
    "class LeNet(pl.LightningModule):\n",
    "    def __init__(self, lr):\n",
    "        super(LeNet, self).__init__()\n",
    "        self.save_hyperparameters()\n",
    "        self.conv1 = nn.Conv2d(1, 6, 5)\n",
    "        self.relu1 = nn.ReLU()\n",
    "        self.pool1 = nn.MaxPool2d(2)\n",
    "        self.conv2 = nn.Conv2d(6, 16, 5)\n",
    "        self.relu2 = nn.ReLU()\n",
    "        self.pool2 = nn.MaxPool2d(2)\n",
    "        self.fc1 = nn.Linear(400, 120)\n",
    "        self.relu3 = nn.ReLU()\n",
    "        self.fc2 = nn.Linear(120, 84)\n",
    "        self.relu4 = nn.ReLU()\n",
    "        self.fc3 = nn.Linear(84, 10)\n",
    "        self.relu5 = nn.ReLU()\n",
    "\n",
    "        self.lr = lr\n",
    "\n",
    "    def forward(self, x):\n",
    "        y = self.conv1(x)\n",
    "        y = self.relu1(y)\n",
    "        y = self.pool1(y)\n",
    "        y = self.conv2(y)\n",
    "        y = self.relu2(y)\n",
    "        y = self.pool2(y)\n",
    "        y = y.reshape(y.shape[0], -1)\n",
    "        y = self.fc1(y)\n",
    "        y = self.relu3(y)\n",
    "        y = self.fc2(y)\n",
    "        y = self.relu4(y)\n",
    "        y = self.fc3(y)\n",
    "        y = self.relu5(y)\n",
    "        return y\n",
    "    \n",
    "    def training_step(self, batch, index):\n",
    "        x, y = batch\n",
    "        y_pred = self(x)\n",
    "        loss = F.cross_entropy(y_pred, y)\n",
    "        self.log('loss', loss, prog_bar=True)\n",
    "        return loss\n",
    "    \n",
    "    def validation_step(self, batch, index):\n",
    "        x, y = batch\n",
    "        y_pred = self(x)\n",
    "        loss = F.cross_entropy(y_pred, y)\n",
    "        return loss\n",
    "\n",
    "    def on_validation_epoch_end(self):\n",
    "        total = 0\n",
    "        correct = 0\n",
    "        self.eval()\n",
    "        for x, y in dl_test:\n",
    "            batch_size = y.shape[0]\n",
    "            y_pred = torch.argmax(classifier(x.to(self.device)), dim=1)\n",
    "            correct += np.sum((y == y_pred.to('cpu')).numpy())\n",
    "            total += batch_size\n",
    "        accuracy = correct / total\n",
    "        self.log('accuracy', accuracy, prog_bar=True)\n",
    "\n",
    "\n",
    "    def configure_optimizers(self):\n",
    "        optimizer = optim.SGD(self.parameters(), lr=self.lr)\n",
    "        return optimizer\n",
    "\n",
    "CLASSIFIER_CHECKPOINT = '/home/armani/DL_class/lightning_logs/version_223/checkpoints/epoch=19-step=9380.ckpt'\n",
    "\n",
    "if not os.path.exists(CLASSIFIER_CHECKPOINT):\n",
    "    classifier_learning_rate = 1e-1\n",
    "    classifier = LeNet(lr=classifier_learning_rate)\n",
    "    #classifier=torch.compile(classifier)\n",
    "    trainer = pl.Trainer(max_epochs=20, devices=[1])\n",
    "    trainer.fit(classifier, dl_train, dl_test)\n",
    "else:\n",
    "    classifier = LeNet.load_from_checkpoint(CLASSIFIER_CHECKPOINT, lr=1e-1)\n",
    "    classifier = torch.compile(classifier)\n",
    "\n"
   ]
  },
  {
   "cell_type": "code",
   "execution_count": 27,
   "metadata": {},
   "outputs": [
    {
     "data": {
      "application/vnd.jupyter.widget-view+json": {
       "model_id": "4582cba68cb547c79ff9029b272f1c68",
       "version_major": 2,
       "version_minor": 0
      },
      "text/plain": [
       "  0%|          | 0/79 [00:00<?, ?it/s]"
      ]
     },
     "metadata": {},
     "output_type": "display_data"
    },
    {
     "name": "stdout",
     "output_type": "stream",
     "text": [
      "Accuracy on original test set: 0.9884\n",
      "Correct: 9884\n",
      "Total: 10000\n"
     ]
    }
   ],
   "source": [
    "import numpy as np\n",
    "from tqdm.notebook import tqdm\n",
    "\n",
    "total = 0\n",
    "correct = 0\n",
    "\n",
    "for x, y in tqdm(dl_test):\n",
    "    batch_size = y.shape[0]\n",
    "    y_pred = torch.argmax(classifier(x), dim=1)\n",
    "    correct += np.sum((y == y_pred).numpy())\n",
    "    total += batch_size\n",
    "\n",
    "accuracy = correct/total\n",
    "\n",
    "print('Accuracy on original test set:', accuracy)\n",
    "print(\"Correct:\", correct)\n",
    "print(\"Total:\", total)\n",
    "\n",
    "original_accuracies = np.full(N_LAYERS, accuracy)\n",
    "\n",
    "\n",
    "\n"
   ]
  },
  {
   "cell_type": "code",
   "execution_count": 28,
   "metadata": {},
   "outputs": [
    {
     "data": {
      "application/vnd.jupyter.widget-view+json": {
       "model_id": "2dcdf1f12c8941e0a79b4fa2450a991d",
       "version_major": 2,
       "version_minor": 0
      },
      "text/plain": [
       "  0%|          | 0/79 [00:00<?, ?it/s]"
      ]
     },
     "metadata": {},
     "output_type": "display_data"
    },
    {
     "name": "stdout",
     "output_type": "stream",
     "text": [
      "HQA LAYER 0\n",
      "Accuracy on hqa reconstructions: 0.9821\n",
      "Correct: 9821\n",
      "Total: 10000\n"
     ]
    },
    {
     "data": {
      "application/vnd.jupyter.widget-view+json": {
       "model_id": "2ae6b638cca348d4bf5e6138df612553",
       "version_major": 2,
       "version_minor": 0
      },
      "text/plain": [
       "  0%|          | 0/79 [00:00<?, ?it/s]"
      ]
     },
     "metadata": {},
     "output_type": "display_data"
    },
    {
     "name": "stdout",
     "output_type": "stream",
     "text": [
      "HQA LAYER 1\n",
      "Accuracy on hqa reconstructions: 0.977\n",
      "Correct: 9770\n",
      "Total: 10000\n"
     ]
    },
    {
     "data": {
      "application/vnd.jupyter.widget-view+json": {
       "model_id": "021c76d1adb04d6597771a39b73c320f",
       "version_major": 2,
       "version_minor": 0
      },
      "text/plain": [
       "  0%|          | 0/79 [00:00<?, ?it/s]"
      ]
     },
     "metadata": {},
     "output_type": "display_data"
    },
    {
     "name": "stdout",
     "output_type": "stream",
     "text": [
      "HQA LAYER 2\n",
      "Accuracy on hqa reconstructions: 0.9391\n",
      "Correct: 9391\n",
      "Total: 10000\n"
     ]
    },
    {
     "data": {
      "application/vnd.jupyter.widget-view+json": {
       "model_id": "c02473e36cf6483a88cfe6179c998b8a",
       "version_major": 2,
       "version_minor": 0
      },
      "text/plain": [
       "  0%|          | 0/79 [00:00<?, ?it/s]"
      ]
     },
     "metadata": {},
     "output_type": "display_data"
    },
    {
     "name": "stdout",
     "output_type": "stream",
     "text": [
      "HQA LAYER 3\n",
      "Accuracy on hqa reconstructions: 0.8169\n",
      "Correct: 8169\n",
      "Total: 10000\n"
     ]
    },
    {
     "data": {
      "application/vnd.jupyter.widget-view+json": {
       "model_id": "ba700f573a8a42c69477bf3fd60141d8",
       "version_major": 2,
       "version_minor": 0
      },
      "text/plain": [
       "  0%|          | 0/79 [00:00<?, ?it/s]"
      ]
     },
     "metadata": {},
     "output_type": "display_data"
    },
    {
     "name": "stdout",
     "output_type": "stream",
     "text": [
      "HQA LAYER 4\n",
      "Accuracy on hqa reconstructions: 0.2959\n",
      "Correct: 2959\n",
      "Total: 10000\n"
     ]
    }
   ],
   "source": [
    "hqa_accuracies = []\n",
    "\n",
    "for ndx, hqa_layer in enumerate(hqa_model):\n",
    "    total = 0\n",
    "    correct = 0\n",
    "    for x, y in (prog_bar := tqdm(dl_test)):\n",
    "        prog_bar.set_description(f\"Testing Layer {ndx}\")\n",
    "        batch_size = y.shape[0]\n",
    "        x = hqa_layer.reconstruct(x)\n",
    "        y_pred = torch.argmax(classifier(x), dim=1)\n",
    "        correct += np.sum((y == y_pred).numpy())\n",
    "        total += batch_size\n",
    "\n",
    "    accuracy = correct/total\n",
    "    hqa_accuracies.append(accuracy)\n",
    "    print(\"HQA LAYER\", ndx)\n",
    "    print(\"Accuracy on hqa reconstructions:\", accuracy)\n",
    "    print(\"Correct:\", correct)\n",
    "    print(\"Total:\", total)\n",
    "\n",
    "hqa_accuracies = np.array(hqa_accuracies)"
   ]
  },
  {
   "cell_type": "code",
   "execution_count": 35,
   "metadata": {},
   "outputs": [
    {
     "data": {
      "application/vnd.jupyter.widget-view+json": {
       "model_id": "627e4583222d416eb85a0da77e0b29c8",
       "version_major": 2,
       "version_minor": 0
      },
      "text/plain": [
       "  0%|          | 0/79 [00:00<?, ?it/s]"
      ]
     },
     "metadata": {},
     "output_type": "display_data"
    },
    {
     "name": "stdout",
     "output_type": "stream",
     "text": [
      "HQAGAN1 LAYER 0\n",
      "Accuracy on hqa reconstructions: 0.9849\n",
      "Correct: 9849\n",
      "Total: 10000\n"
     ]
    },
    {
     "data": {
      "application/vnd.jupyter.widget-view+json": {
       "model_id": "53fa6b1adccc4d05a4559df5938d6abc",
       "version_major": 2,
       "version_minor": 0
      },
      "text/plain": [
       "  0%|          | 0/79 [00:00<?, ?it/s]"
      ]
     },
     "metadata": {},
     "output_type": "display_data"
    },
    {
     "name": "stdout",
     "output_type": "stream",
     "text": [
      "HQAGAN1 LAYER 1\n",
      "Accuracy on hqa reconstructions: 0.9149\n",
      "Correct: 9149\n",
      "Total: 10000\n"
     ]
    },
    {
     "data": {
      "application/vnd.jupyter.widget-view+json": {
       "model_id": "43f7b0d85f07489aab311543acaa0c7b",
       "version_major": 2,
       "version_minor": 0
      },
      "text/plain": [
       "  0%|          | 0/79 [00:00<?, ?it/s]"
      ]
     },
     "metadata": {},
     "output_type": "display_data"
    },
    {
     "name": "stdout",
     "output_type": "stream",
     "text": [
      "HQAGAN1 LAYER 2\n",
      "Accuracy on hqa reconstructions: 0.8691\n",
      "Correct: 8691\n",
      "Total: 10000\n"
     ]
    },
    {
     "data": {
      "application/vnd.jupyter.widget-view+json": {
       "model_id": "669e77115ce1406d87bc57da027d607a",
       "version_major": 2,
       "version_minor": 0
      },
      "text/plain": [
       "  0%|          | 0/79 [00:00<?, ?it/s]"
      ]
     },
     "metadata": {},
     "output_type": "display_data"
    },
    {
     "name": "stdout",
     "output_type": "stream",
     "text": [
      "HQAGAN1 LAYER 3\n",
      "Accuracy on hqa reconstructions: 0.8022\n",
      "Correct: 8022\n",
      "Total: 10000\n"
     ]
    },
    {
     "data": {
      "application/vnd.jupyter.widget-view+json": {
       "model_id": "43a33329e36d47b6910d9aa009c071bd",
       "version_major": 2,
       "version_minor": 0
      },
      "text/plain": [
       "  0%|          | 0/79 [00:00<?, ?it/s]"
      ]
     },
     "metadata": {},
     "output_type": "display_data"
    },
    {
     "name": "stdout",
     "output_type": "stream",
     "text": [
      "HQAGAN1 LAYER 4\n",
      "Accuracy on hqa reconstructions: 0.3403\n",
      "Correct: 3403\n",
      "Total: 10000\n"
     ]
    }
   ],
   "source": [
    "hqagan_accuracies = []\n",
    "\n",
    "for ndx, hqa_layer in enumerate(hqagan_model):\n",
    "    total = 0\n",
    "    correct = 0\n",
    "    for x, y in (prog_bar := tqdm(dl_test)):\n",
    "        prog_bar.set_description(f\"Testing Layer {ndx}\")\n",
    "        batch_size = y.shape[0]\n",
    "        x = hqa_layer.reconstruct(x)\n",
    "        y_pred = torch.argmax(classifier(x), dim=1)\n",
    "        correct += np.sum((y == y_pred).numpy())\n",
    "        total += batch_size\n",
    "\n",
    "    accuracy = correct/total\n",
    "    hqagan_accuracies.append(accuracy)\n",
    "    print(\"HQAGAN1 LAYER\", ndx)\n",
    "    print(\"Accuracy on hqa reconstructions:\", accuracy)\n",
    "    print(\"Correct:\", correct)\n",
    "    print(\"Total:\", total)\n",
    "\n",
    "hqagan_accuracies = np.array(hqagan_accuracies)"
   ]
  },
  {
   "cell_type": "code",
   "execution_count": 29,
   "metadata": {},
   "outputs": [
    {
     "data": {
      "application/vnd.jupyter.widget-view+json": {
       "model_id": "caa3ef04674144fe848c33f8247cecac",
       "version_major": 2,
       "version_minor": 0
      },
      "text/plain": [
       "  0%|          | 0/79 [00:00<?, ?it/s]"
      ]
     },
     "metadata": {},
     "output_type": "display_data"
    },
    {
     "name": "stdout",
     "output_type": "stream",
     "text": [
      "HQAGAN2 LAYER 0\n",
      "Accuracy on hqa reconstructions: 0.9874\n",
      "Correct: 9874\n",
      "Total: 10000\n"
     ]
    },
    {
     "data": {
      "application/vnd.jupyter.widget-view+json": {
       "model_id": "6ab5f9b2f82e4520b6a1fa7623a4229d",
       "version_major": 2,
       "version_minor": 0
      },
      "text/plain": [
       "  0%|          | 0/79 [00:00<?, ?it/s]"
      ]
     },
     "metadata": {},
     "output_type": "display_data"
    },
    {
     "name": "stdout",
     "output_type": "stream",
     "text": [
      "HQAGAN2 LAYER 1\n",
      "Accuracy on hqa reconstructions: 0.1277\n",
      "Correct: 1277\n",
      "Total: 10000\n"
     ]
    },
    {
     "data": {
      "application/vnd.jupyter.widget-view+json": {
       "model_id": "eaa00c3c4dca47febc69ab8f8452df05",
       "version_major": 2,
       "version_minor": 0
      },
      "text/plain": [
       "  0%|          | 0/79 [00:00<?, ?it/s]"
      ]
     },
     "metadata": {},
     "output_type": "display_data"
    },
    {
     "name": "stdout",
     "output_type": "stream",
     "text": [
      "HQAGAN2 LAYER 2\n",
      "Accuracy on hqa reconstructions: 0.09\n",
      "Correct: 900\n",
      "Total: 10000\n"
     ]
    },
    {
     "data": {
      "application/vnd.jupyter.widget-view+json": {
       "model_id": "d88468b82e6b4fdc83b863185f236198",
       "version_major": 2,
       "version_minor": 0
      },
      "text/plain": [
       "  0%|          | 0/79 [00:00<?, ?it/s]"
      ]
     },
     "metadata": {},
     "output_type": "display_data"
    },
    {
     "name": "stdout",
     "output_type": "stream",
     "text": [
      "HQAGAN2 LAYER 3\n",
      "Accuracy on hqa reconstructions: 0.0895\n",
      "Correct: 895\n",
      "Total: 10000\n"
     ]
    },
    {
     "data": {
      "application/vnd.jupyter.widget-view+json": {
       "model_id": "74083be98143432b92af1ee221b83225",
       "version_major": 2,
       "version_minor": 0
      },
      "text/plain": [
       "  0%|          | 0/79 [00:00<?, ?it/s]"
      ]
     },
     "metadata": {},
     "output_type": "display_data"
    },
    {
     "name": "stdout",
     "output_type": "stream",
     "text": [
      "HQAGAN2 LAYER 4\n",
      "Accuracy on hqa reconstructions: 0.1134\n",
      "Correct: 1134\n",
      "Total: 10000\n"
     ]
    }
   ],
   "source": [
    "hqagan2_accuracies = []\n",
    "\n",
    "for ndx, hqa_layer in enumerate(hqagan2_model):\n",
    "    total = 0\n",
    "    correct = 0\n",
    "    for x, y in (prog_bar := tqdm(dl_test)):\n",
    "        prog_bar.set_description(f\"Testing Layer {ndx}\")\n",
    "        batch_size = y.shape[0]\n",
    "        x = hqa_layer.reconstruct(x)\n",
    "        y_pred = torch.argmax(classifier(x), dim=1)\n",
    "        correct += np.sum((y == y_pred).numpy())\n",
    "        total += batch_size\n",
    "\n",
    "    accuracy = correct/total\n",
    "    hqagan2_accuracies.append(accuracy)\n",
    "    print(\"HQAGAN2 LAYER\", ndx)\n",
    "    print(\"Accuracy on hqa reconstructions:\", accuracy)\n",
    "    print(\"Correct:\", correct)\n",
    "    print(\"Total:\", total)\n",
    "\n",
    "hqagan2_accuracies = np.array(hqagan2_accuracies)"
   ]
  },
  {
   "cell_type": "code",
   "execution_count": 37,
   "metadata": {},
   "outputs": [
    {
     "data": {
      "text/plain": [
       "<matplotlib.legend.Legend at 0x7f258ef325b0>"
      ]
     },
     "execution_count": 37,
     "metadata": {},
     "output_type": "execute_result"
    },
    {
     "data": {
      "image/png": "[encoded data removed]",
      "text/plain": [
       "<Figure size 1000x1000 with 1 Axes>"
      ]
     },
     "metadata": {},
     "output_type": "display_data"
    }
   ],
   "source": [
    "import matplotlib.pyplot as plt\n",
    "\n",
    "plt.figure(figsize=(10,10))\n",
    "\n",
    "plt.plot(original_accuracies, label=\"Original Dataset\")\n",
    "plt.plot(hqa_accuracies, label=\"HQA Reconstructions\")\n",
    "plt.plot(hqagan_accuracies, label=\"HQA GAN 1 Reconstructions\")\n",
    "plt.plot(hqagan2_accuracies, label=\"HQA GAN 2 Reconstructions\")\n",
    "\n",
    "plt.xticks(np.arange(0, N_LAYERS))\n",
    "plt.xlabel(\"Layer\")\n",
    "plt.ylabel(\"Accuracy\")\n",
    "\n",
    "plt.legend()"
   ]
  }
 ],
 "metadata": {
  "kernelspec": {
   "display_name": "Python 3",
   "language": "python",
   "name": "python3"
  },
  "language_info": {
   "codemirror_mode": {
    "name": "ipython",
    "version": 3
   },
   "file_extension": ".py",
   "mimetype": "text/x-python",
   "name": "python",
   "nbconvert_exporter": "python",
   "pygments_lexer": "ipython3",
   "version": "3.8.10"
  }
 },
 "nbformat": 4,
 "nbformat_minor": 2
}
